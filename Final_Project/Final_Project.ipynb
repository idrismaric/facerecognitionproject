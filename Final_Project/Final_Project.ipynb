{
 "cells": [
  {
   "cell_type": "markdown",
   "metadata": {},
   "source": [
    "## Face Recognition Project - SMART FACE RECOGNITION TO IDENTIFY PREMIUM CUSTOMERS\n",
    "\n",
    "In short, this program will identify from the CCTV feed if the person who entered the showroom is a premium customer or not.\n",
    "\n",
    "We felt that the most time consuming process of a face recognition project was in identifying face location in the image and extracting the encodings of the face. So, if we were to run algorithm that would fetch all the premium customers' faces from a folder for example, extract location and encoding and then compare it with the input image (Customer entering the showroom), it would take a long time.\n",
    "\n",
    "So we decided to take another route. In our new process, we access our previously stored encodings of all the registered premium customers in a csv file. After doing that, we will load the input image, process location and encodings of that image and compare it with the existing encodings to see if there is a match. True would simply mean there was a match and the Premium Customer has been identified."
   ]
  },
  {
   "cell_type": "code",
   "execution_count": 24,
   "metadata": {},
   "outputs": [],
   "source": [
    "class color:\n",
    "   PURPLE = '\\033[95m'\n",
    "   CYAN = '\\033[96m'\n",
    "   DARKCYAN = '\\033[36m'\n",
    "   BLUE = '\\033[94m'\n",
    "   GREEN = '\\033[92m'\n",
    "   YELLOW = '\\033[93m'\n",
    "   RED = '\\033[91m'\n",
    "   BOLD = '\\033[1m'\n",
    "   UNDERLINE = '\\033[4m'\n",
    "   END = '\\033[0m'\n"
   ]
  },
  {
   "cell_type": "markdown",
   "metadata": {},
   "source": [
    "## Capturing and Sending video feed into the program"
   ]
  },
  {
   "cell_type": "code",
   "execution_count": 11,
   "metadata": {},
   "outputs": [],
   "source": [
    "import dlib\n",
    "import cv2\n",
    "import face_recognition\n",
    "import pandas as pd"
   ]
  },
  {
   "cell_type": "code",
   "execution_count": 12,
   "metadata": {},
   "outputs": [
    {
     "name": "stdout",
     "output_type": "stream",
     "text": [
      "Creating..../data/frame0.jpg\n",
      "Creating..../data/frame1.jpg\n",
      "Creating..../data/frame2.jpg\n",
      "Creating..../data/frame3.jpg\n",
      "Creating..../data/frame4.jpg\n",
      "Creating..../data/frame5.jpg\n",
      "Creating..../data/frame6.jpg\n",
      "Creating..../data/frame7.jpg\n",
      "Creating..../data/frame8.jpg\n",
      "Creating..../data/frame9.jpg\n",
      "Creating..../data/frame10.jpg\n",
      "Creating..../data/frame11.jpg\n",
      "Creating..../data/frame12.jpg\n",
      "Creating..../data/frame13.jpg\n",
      "Creating..../data/frame14.jpg\n",
      "Creating..../data/frame15.jpg\n",
      "Creating..../data/frame16.jpg\n",
      "Creating..../data/frame17.jpg\n",
      "Creating..../data/frame18.jpg\n",
      "Creating..../data/frame19.jpg\n",
      "Creating..../data/frame20.jpg\n",
      "Creating..../data/frame21.jpg\n",
      "Creating..../data/frame22.jpg\n",
      "Creating..../data/frame23.jpg\n",
      "Creating..../data/frame24.jpg\n",
      "Creating..../data/frame25.jpg\n",
      "Creating..../data/frame26.jpg\n",
      "Creating..../data/frame27.jpg\n",
      "Creating..../data/frame28.jpg\n",
      "Creating..../data/frame29.jpg\n",
      "Creating..../data/frame30.jpg\n",
      "Creating..../data/frame31.jpg\n",
      "Creating..../data/frame32.jpg\n",
      "Creating..../data/frame33.jpg\n",
      "Creating..../data/frame34.jpg\n",
      "Creating..../data/frame35.jpg\n",
      "Creating..../data/frame36.jpg\n",
      "Creating..../data/frame37.jpg\n",
      "Creating..../data/frame38.jpg\n",
      "Creating..../data/frame39.jpg\n",
      "Creating..../data/frame40.jpg\n",
      "Creating..../data/frame41.jpg\n",
      "Creating..../data/frame42.jpg\n",
      "Creating..../data/frame43.jpg\n",
      "Creating..../data/frame44.jpg\n",
      "Creating..../data/frame45.jpg\n",
      "Creating..../data/frame46.jpg\n",
      "Creating..../data/frame47.jpg\n",
      "Creating..../data/frame48.jpg\n",
      "Creating..../data/frame49.jpg\n",
      "Creating..../data/frame50.jpg\n",
      "Creating..../data/frame51.jpg\n",
      "Creating..../data/frame52.jpg\n",
      "Creating..../data/frame53.jpg\n",
      "Creating..../data/frame54.jpg\n",
      "Creating..../data/frame55.jpg\n",
      "Creating..../data/frame56.jpg\n",
      "Creating..../data/frame57.jpg\n",
      "Creating..../data/frame58.jpg\n",
      "Creating..../data/frame59.jpg\n",
      "Creating..../data/frame60.jpg\n",
      "Creating..../data/frame61.jpg\n",
      "Creating..../data/frame62.jpg\n",
      "Creating..../data/frame63.jpg\n",
      "Creating..../data/frame64.jpg\n",
      "Creating..../data/frame65.jpg\n",
      "Creating..../data/frame66.jpg\n",
      "Creating..../data/frame67.jpg\n",
      "Creating..../data/frame68.jpg\n",
      "Creating..../data/frame69.jpg\n",
      "Creating..../data/frame70.jpg\n",
      "Creating..../data/frame71.jpg\n",
      "Creating..../data/frame72.jpg\n",
      "Creating..../data/frame73.jpg\n",
      "Creating..../data/frame74.jpg\n",
      "Creating..../data/frame75.jpg\n",
      "Creating..../data/frame76.jpg\n",
      "Creating..../data/frame77.jpg\n",
      "Creating..../data/frame78.jpg\n",
      "Creating..../data/frame79.jpg\n",
      "Creating..../data/frame80.jpg\n",
      "Creating..../data/frame81.jpg\n",
      "Creating..../data/frame82.jpg\n",
      "Creating..../data/frame83.jpg\n",
      "Creating..../data/frame84.jpg\n",
      "Creating..../data/frame85.jpg\n",
      "Creating..../data/frame86.jpg\n",
      "Creating..../data/frame87.jpg\n",
      "Creating..../data/frame88.jpg\n",
      "Creating..../data/frame89.jpg\n",
      "Creating..../data/frame90.jpg\n",
      "Creating..../data/frame91.jpg\n"
     ]
    }
   ],
   "source": [
    "# Importing all necessary libraries \n",
    "import cv2 \n",
    "import os \n",
    "  \n",
    "# Read the video from specified path \n",
    "cam = cv2.VideoCapture(r\"C:\\Users\\Idris\\Desktop\\facerecog\\Final Project\\Video samples\\VID00005.mp4\") \n",
    "  \n",
    "try: \n",
    "      \n",
    "    # creating a folder named data \n",
    "    if not os.path.exists('data'): \n",
    "        os.makedirs('data') \n",
    "  \n",
    "# if not created then raise error \n",
    "except OSError: \n",
    "    print ('Error: Creating directory of data') \n",
    "  \n",
    "# frame \n",
    "currentframe = 0\n",
    "  \n",
    "while(True): \n",
    "      \n",
    "    # reading from frame \n",
    "    ret,frame = cam.read() \n",
    "  \n",
    "    if ret: \n",
    "        # if video is still left continue creating images \n",
    "        name = './data/frame' + str(currentframe) + '.jpg'\n",
    "        print ('Creating...' + name) \n",
    "  \n",
    "        # writing the extracted images \n",
    "        cv2.imwrite(name, frame) \n",
    "  \n",
    "        # increasing counter so that it will \n",
    "        # show how many frames are created \n",
    "        currentframe += 1\n",
    "    else: \n",
    "        break\n",
    "  \n",
    "# Release all space and windows once done \n",
    "cam.release() \n",
    "cv2.destroyAllWindows()"
   ]
  },
  {
   "cell_type": "markdown",
   "metadata": {},
   "source": [
    "## Loading the encodings of the Premium Customers' faces"
   ]
  },
  {
   "cell_type": "code",
   "execution_count": 13,
   "metadata": {},
   "outputs": [],
   "source": [
    "data = pd.read_csv(r'C:\\Users\\Idris\\Desktop\\facerecog\\Final Project\\Encodings.csv')"
   ]
  },
  {
   "cell_type": "code",
   "execution_count": 14,
   "metadata": {},
   "outputs": [
    {
     "data": {
      "text/plain": [
       "(11, 128)"
      ]
     },
     "execution_count": 14,
     "metadata": {},
     "output_type": "execute_result"
    }
   ],
   "source": [
    "data.shape"
   ]
  },
  {
   "cell_type": "code",
   "execution_count": 15,
   "metadata": {},
   "outputs": [],
   "source": [
    "encoding = data.values"
   ]
  },
  {
   "cell_type": "markdown",
   "metadata": {},
   "source": [
    "## Fetching the Face from captured image of the video"
   ]
  },
  {
   "cell_type": "code",
   "execution_count": 16,
   "metadata": {},
   "outputs": [],
   "source": [
    "image1 = cv2.imread(r'C:\\Users\\Idris\\Desktop\\facerecog\\Final Project\\data\\frame35.jpg')\n",
    "#image1 = cv2.resize(image1,(0,0), fx=0.2, fy=0.2)"
   ]
  },
  {
   "cell_type": "code",
   "execution_count": 6,
   "metadata": {},
   "outputs": [
    {
     "data": {
      "text/plain": [
       "-1"
      ]
     },
     "execution_count": 6,
     "metadata": {},
     "output_type": "execute_result"
    }
   ],
   "source": [
    "cv2.imshow('a', image1)\n",
    "cv2.waitKey(0)"
   ]
  },
  {
   "cell_type": "markdown",
   "metadata": {},
   "source": [
    "## Analysing input face image; extracting location of face, encodings and performing comparison with old encodings"
   ]
  },
  {
   "cell_type": "code",
   "execution_count": 17,
   "metadata": {},
   "outputs": [],
   "source": [
    "loc1=face_recognition.face_locations(image1,number_of_times_to_upsample=1,model=\"cnn\")\n",
    "face_encoding1 = face_recognition.face_encodings(image1,known_face_locations=loc1)"
   ]
  },
  {
   "cell_type": "code",
   "execution_count": 20,
   "metadata": {},
   "outputs": [],
   "source": [
    "for i in range(len(encoding)):\n",
    "    results = face_recognition.compare_faces([face_encoding1[0]], encoding[i], tolerance = 0.5)"
   ]
  },
  {
   "cell_type": "markdown",
   "metadata": {},
   "source": [
    "## Notifying the manager about the type of customer identified from the image: Premium or not."
   ]
  },
  {
   "cell_type": "code",
   "execution_count": 25,
   "metadata": {},
   "outputs": [
    {
     "name": "stdout",
     "output_type": "stream",
     "text": [
      "\u001b[95m\u001b[1mOne of our Premium customer has entered the showroom. Please welcome and make him comfortable.\u001b[0m\n"
     ]
    }
   ],
   "source": [
    "if results[0] == True:\n",
    "    print('\\033[95m' + color.BOLD +'One of our Premium customer has entered the showroom. Please welcome and make him comfortable.'\n",
    "         + color.END)\n",
    "    \n",
    "else:\n",
    "    print('The customer who entered is not among the Premium customer list.')\n",
    "    "
   ]
  }
 ],
 "metadata": {
  "kernelspec": {
   "display_name": "Python 3",
   "language": "python",
   "name": "python3"
  },
  "language_info": {
   "codemirror_mode": {
    "name": "ipython",
    "version": 3
   },
   "file_extension": ".py",
   "mimetype": "text/x-python",
   "name": "python",
   "nbconvert_exporter": "python",
   "pygments_lexer": "ipython3",
   "version": "3.8.5"
  }
 },
 "nbformat": 4,
 "nbformat_minor": 4
}
